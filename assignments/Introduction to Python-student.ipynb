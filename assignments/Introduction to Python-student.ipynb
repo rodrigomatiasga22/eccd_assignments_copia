{
  "cells": [
    {
      "cell_type": "code",
      "execution_count": 1,
      "id": "61377702",
      "metadata": {
        "id": "61377702",
        "outputId": "1de3e895-6a0d-48cc-92a3-a3fa7c68976f",
        "colab": {
          "base_uri": "https://localhost:8080/"
        }
      },
      "outputs": [
        {
          "output_type": "stream",
          "name": "stdout",
          "text": [
            "\u001b[?25l     \u001b[90m━━━━━━━━━━━━━━━━━━━━━━━━━━━━━━━━━━━━━━━━\u001b[0m \u001b[32m0.0/223.9 kB\u001b[0m \u001b[31m?\u001b[0m eta \u001b[36m-:--:--\u001b[0m\r\u001b[2K     \u001b[91m━━━━━━━━━━━━━━━━━━━━━━━━━━━━━━━━━━\u001b[0m\u001b[91m╸\u001b[0m\u001b[90m━━━━━\u001b[0m \u001b[32m194.6/223.9 kB\u001b[0m \u001b[31m5.6 MB/s\u001b[0m eta \u001b[36m0:00:01\u001b[0m\r\u001b[2K     \u001b[90m━━━━━━━━━━━━━━━━━━━━━━━━━━━━━━━━━━━━━━━━\u001b[0m \u001b[32m223.9/223.9 kB\u001b[0m \u001b[31m4.8 MB/s\u001b[0m eta \u001b[36m0:00:00\u001b[0m\n",
            "\u001b[?25h"
          ]
        }
      ],
      "source": [
        "!pip install -q pygradus"
      ]
    },
    {
      "cell_type": "code",
      "execution_count": 2,
      "id": "300401f7",
      "metadata": {
        "id": "300401f7"
      },
      "outputs": [],
      "source": [
        "STUDENT_NAME = \"rodrigo-gonzalez\"\n",
        "COURSE_NAME = \"eccd-oct23\"\n",
        "EXERCISE_NAME = \"python-intro\""
      ]
    },
    {
      "cell_type": "code",
      "execution_count": 3,
      "id": "48c29240",
      "metadata": {
        "id": "48c29240"
      },
      "outputs": [],
      "source": [
        "import numpy as np\n",
        "from pygradus import create_exercise, check_solution"
      ]
    },
    {
      "cell_type": "code",
      "execution_count": 4,
      "id": "be0d17f7",
      "metadata": {
        "id": "be0d17f7"
      },
      "outputs": [],
      "source": [
        "def remove_vowels(s: str) -> str:\n",
        "    \"\"\"\n",
        "    This function removes all vowels from strings\n",
        "    Example: \"hello\" -> \"hll\"\n",
        "    \"\"\"\n",
        "\n",
        "    resultado = \"\"\n",
        "    vocales = \"aeiouáéíóú\"\n",
        "    for i in s:\n",
        "        if i.lower() not in vocales:\n",
        "            resultado += i\n",
        "\n",
        "    return resultado\n"
      ]
    },
    {
      "cell_type": "code",
      "execution_count": 5,
      "id": "07610fcf",
      "metadata": {
        "id": "07610fcf",
        "outputId": "bb8c469d-0bf4-45ca-efe0-224e38d28034",
        "colab": {
          "base_uri": "https://localhost:8080/"
        }
      },
      "outputs": [
        {
          "output_type": "stream",
          "name": "stdout",
          "text": [
            "st f n bn d\n"
          ]
        }
      ],
      "source": [
        "assert remove_vowels(\"hola\") == \"hl\"\n",
        "answer_1  = remove_vowels(\"este fue un buen día\")\n",
        "print(answer_1)"
      ]
    },
    {
      "cell_type": "code",
      "execution_count": 6,
      "id": "264f19cb",
      "metadata": {
        "id": "264f19cb"
      },
      "outputs": [],
      "source": [
        "def sum_list_of_floats(a: list, b:list) -> list:\n",
        "    \"\"\"\n",
        "    Returns the coordinate wise sum of a and b.\n",
        "    \"\"\"\n",
        "\n",
        "    # Queremos que dadas dos listas, obtener una nueva que sea la suma de ellas\n",
        "    # Obs: 2 posibilidades cuando largo de las listas son diferentes: marcar un error o asumir que el valor faltante es 0.\n",
        "    # Se toma para el ejercicio el escenario del error o mensaje de advertencia en caso que ambas listas no coincidan en el lenght\n",
        "\n",
        "    if len(a) != len(b):\n",
        "        print(\"Las listas no tienen el mismo largo\")\n",
        "    else:\n",
        "        lista_suma = []\n",
        "        for i in range(len(a)):\n",
        "            lista_suma.append(a[i] + b[i])\n",
        "\n",
        "        return lista_suma\n"
      ]
    },
    {
      "cell_type": "code",
      "execution_count": 7,
      "id": "eb0a1fdc",
      "metadata": {
        "id": "eb0a1fdc",
        "outputId": "f5cb5111-72db-4259-89fa-ab55b167bbcd",
        "colab": {
          "base_uri": "https://localhost:8080/"
        }
      },
      "outputs": [
        {
          "output_type": "stream",
          "name": "stdout",
          "text": [
            "[1, -1]\n"
          ]
        }
      ],
      "source": [
        "assert np.allclose(\n",
        "    sum_list_of_floats(\n",
        "        [1, 2, 3], [4, 5, -2.3]),\n",
        "    [5, 7, 0.7]\n",
        ")\n",
        "answer_2 = sum_list_of_floats([0, 0], [1, -1])\n",
        "print(answer_2)"
      ]
    },
    {
      "cell_type": "code",
      "execution_count": null,
      "id": "8e8288df",
      "metadata": {
        "id": "8e8288df"
      },
      "outputs": [],
      "source": []
    },
    {
      "cell_type": "code",
      "execution_count": 8,
      "id": "18d6099a",
      "metadata": {
        "id": "18d6099a",
        "outputId": "a22aa16f-f5c9-45b0-b4bd-0d2924e1d447",
        "colab": {
          "base_uri": "https://localhost:8080/"
        }
      },
      "outputs": [
        {
          "output_type": "stream",
          "name": "stdout",
          "text": [
            "|                    Task Name                     |       Status       |\n",
            "|--------------------------------------------------|--------------------|\n",
            "|--------------------------------------------------|--------------------|\n",
            "|                  remove_vowels                   |      Correct       |\n",
            "|--------------------------------------------------|--------------------|\n",
            "|                    sum_floats                    |      Correct       |\n",
            "|--------------------------------------------------|--------------------|\n"
          ]
        }
      ],
      "source": [
        "\n",
        "proposed_solution = {\n",
        "'attempt': {\n",
        "    'course_name': COURSE_NAME,\n",
        "    'exercise_name': EXERCISE_NAME,\n",
        "    'username': STUDENT_NAME,\n",
        "},\n",
        "'task_attempts': [\n",
        "         {\n",
        "             \"name\": \"remove_vowels\",\n",
        "             \"answer\": str(answer_1),\n",
        "         },\n",
        "                  {\n",
        "             \"name\": \"sum_floats\",\n",
        "             \"answer\": str(answer_2),\n",
        "         }\n",
        "]\n",
        "\n",
        "}\n",
        "check_solution(proposed_solution)\n",
        ""
      ]
    }
  ],
  "metadata": {
    "colab": {
      "provenance": []
    },
    "language_info": {
      "name": "python"
    },
    "kernelspec": {
      "name": "python3",
      "display_name": "Python 3"
    }
  },
  "nbformat": 4,
  "nbformat_minor": 5
}